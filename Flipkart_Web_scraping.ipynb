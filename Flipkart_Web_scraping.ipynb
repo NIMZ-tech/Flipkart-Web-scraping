{
  "nbformat": 4,
  "nbformat_minor": 0,
  "metadata": {
    "colab": {
      "name": "Flipkart.Web scraping.ipynb",
      "provenance": [],
      "authorship_tag": "ABX9TyOWhOcJ3Z7NwqFvg47EzyXW",
      "include_colab_link": true
    },
    "kernelspec": {
      "display_name": "Python 3",
      "name": "python3"
    },
    "language_info": {
      "name": "python"
    }
  },
  "cells": [
    {
      "cell_type": "markdown",
      "metadata": {
        "id": "view-in-github",
        "colab_type": "text"
      },
      "source": [
        "<a href=\"https://colab.research.google.com/github/NIMZ-tech/Flipkart-Web-scraping/blob/main/Flipkart_Web_scraping.ipynb\" target=\"_parent\"><img src=\"https://colab.research.google.com/assets/colab-badge.svg\" alt=\"Open In Colab\"/></a>"
      ]
    },
    {
      "cell_type": "code",
      "metadata": {
        "id": "2NMF5DzJVPie"
      },
      "source": [
        "# import packages\n",
        "import requests\n",
        "from bs4 import BeautifulSoup\n",
        "import pandas as pd\n",
        "import time\n",
        "from IPython.display import clear_output"
      ],
      "execution_count": 38,
      "outputs": []
    },
    {
      "cell_type": "code",
      "metadata": {
        "colab": {
          "base_uri": "https://localhost:8080/"
        },
        "id": "VsultCOpVRhm",
        "outputId": "a8128d81-b53e-4f96-db81-22cd98920c5d"
      },
      "source": [
        "Base_url='https://www.flipkart.com/search?q=mobiles&sid=tyy%2C4io&as=on&as-show=on&otracker=AS_QueryStore_OrganicAutoSuggest_2_1_na_na_na&otracker1=AS_QueryStore_OrganicAutoSuggest_2_1_na_na_na&as-pos=2&as-type=RECENT&suggestionId=mobiles%7CMobiles&requestId=8b52a7e1-fc91-4517-8509-8dd53c49c0e0&as-searchtext=m&page='\n",
        "name_info=[]\n",
        "price_info=[]\n",
        "star_info=[]\n",
        "rating_info=[]\n",
        "review_info=[]\n",
        "speci_info=[]\n",
        "\n",
        "\n",
        "for i in range(1,12):\n",
        "  time.sleep(5)\n",
        "  print(f'Going to scrap data from {i} page')\n",
        "  clear_output(wait=True)\n",
        "  url=Base_url+str(i)\n",
        "  req=requests.get(url)\n",
        "  soup=BeautifulSoup(req.text,'html')\n",
        "\n",
        "  #name info\n",
        "  n=soup.findAll('div',attrs={'class':'_4rR01T'})\n",
        "  name=[i.text for i in n]\n",
        "  for j in name:\n",
        "    name_info.append(j)\n",
        "\n",
        "\n",
        "\n",
        "  #price info\n",
        "  p=soup.findAll('div',attrs={'class':'_30jeq3 _1_WHN1'})\n",
        "  price=[i.text for i in p]\n",
        "  for j in price:\n",
        "    price_info.append(j)\n",
        "\n",
        "\n",
        "\n",
        "  #star info\n",
        "  s=soup.findAll('div',attrs={'class':'gUuXy-'})\n",
        "  star=[i.span.text for i in s]\n",
        "  for j in star:\n",
        "    star_info.append(j)\n",
        "\n",
        "\n",
        "\n",
        "  #rating info  and #review\n",
        "  rating=soup.findAll('span',attrs={'class':'_2_R_DZ'})\n",
        "  a_l=[]\n",
        "  for i in rating:\n",
        "    a_l.append(i.span.findAll('span'))\n",
        "    rating=[]\n",
        "    review=[]\n",
        "  for i,j,k in a_l:\n",
        "    rating_info.append(i.text)\n",
        "    review_info.append(k.text)\n",
        "\n",
        "  # Specifications info \n",
        "  pro=soup.findAll('div',attrs={'class':'fMghEO'})\n",
        "  propertys=[i.text for i in pro]\n",
        "  for j in propertys:\n",
        "    speci_info.append(j)\n"
      ],
      "execution_count": 42,
      "outputs": [
        {
          "output_type": "stream",
          "text": [
            "Going to scrap data from 11 page\n"
          ],
          "name": "stdout"
        }
      ]
    },
    {
      "cell_type": "code",
      "metadata": {
        "id": "7deEOqJ0c-sC"
      },
      "source": [
        ""
      ],
      "execution_count": null,
      "outputs": []
    },
    {
      "cell_type": "code",
      "metadata": {
        "colab": {
          "base_uri": "https://localhost:8080/",
          "height": 419
        },
        "id": "0-rLW2p-VR3y",
        "outputId": "31e19e73-0f3c-41a7-9da7-efb3ecccb539"
      },
      "source": [
        "#converting to DataFrame\n",
        "data=pd.DataFrame({'name':name_info,'price':price_info,'star':star_info,'rating':rating_info,'review':review_info,'specifications':speci_info})\n",
        "data"
      ],
      "execution_count": 43,
      "outputs": [
        {
          "output_type": "execute_result",
          "data": {
            "text/html": [
              "<div>\n",
              "<style scoped>\n",
              "    .dataframe tbody tr th:only-of-type {\n",
              "        vertical-align: middle;\n",
              "    }\n",
              "\n",
              "    .dataframe tbody tr th {\n",
              "        vertical-align: top;\n",
              "    }\n",
              "\n",
              "    .dataframe thead th {\n",
              "        text-align: right;\n",
              "    }\n",
              "</style>\n",
              "<table border=\"1\" class=\"dataframe\">\n",
              "  <thead>\n",
              "    <tr style=\"text-align: right;\">\n",
              "      <th></th>\n",
              "      <th>name</th>\n",
              "      <th>price</th>\n",
              "      <th>star</th>\n",
              "      <th>rating</th>\n",
              "      <th>review</th>\n",
              "      <th>specifications</th>\n",
              "    </tr>\n",
              "  </thead>\n",
              "  <tbody>\n",
              "    <tr>\n",
              "      <th>0</th>\n",
              "      <td>REDMI 9i (Midnight Black, 64 GB)</td>\n",
              "      <td>₹8,299</td>\n",
              "      <td>4.3</td>\n",
              "      <td>3,17,243 Ratings</td>\n",
              "      <td>17,994 Reviews</td>\n",
              "      <td>4 GB RAM | 64 GB ROM | Expandable Upto 512 GB1...</td>\n",
              "    </tr>\n",
              "    <tr>\n",
              "      <th>1</th>\n",
              "      <td>POCO M3 (Cool Blue, 64 GB)</td>\n",
              "      <td>₹10,999</td>\n",
              "      <td>4.3</td>\n",
              "      <td>1,76,091 Ratings</td>\n",
              "      <td>13,034 Reviews</td>\n",
              "      <td>6 GB RAM | 64 GB ROM | Expandable Upto 512 GB1...</td>\n",
              "    </tr>\n",
              "    <tr>\n",
              "      <th>2</th>\n",
              "      <td>realme C21 (Cross Black, 64 GB)</td>\n",
              "      <td>₹8,999</td>\n",
              "      <td>4.4</td>\n",
              "      <td>20,873 Ratings</td>\n",
              "      <td>854 Reviews</td>\n",
              "      <td>4 GB RAM | 64 GB ROM | Expandable Upto 256 GB1...</td>\n",
              "    </tr>\n",
              "    <tr>\n",
              "      <th>3</th>\n",
              "      <td>realme C21 (Cross Black, 32 GB)</td>\n",
              "      <td>₹7,999</td>\n",
              "      <td>4.5</td>\n",
              "      <td>21,923 Ratings</td>\n",
              "      <td>977 Reviews</td>\n",
              "      <td>3 GB RAM | 32 GB ROM | Expandable Upto 256 GB1...</td>\n",
              "    </tr>\n",
              "    <tr>\n",
              "      <th>4</th>\n",
              "      <td>realme C21 (Cross Blue, 64 GB)</td>\n",
              "      <td>₹8,999</td>\n",
              "      <td>4.4</td>\n",
              "      <td>20,873 Ratings</td>\n",
              "      <td>854 Reviews</td>\n",
              "      <td>4 GB RAM | 64 GB ROM | Expandable Upto 256 GB1...</td>\n",
              "    </tr>\n",
              "    <tr>\n",
              "      <th>...</th>\n",
              "      <td>...</td>\n",
              "      <td>...</td>\n",
              "      <td>...</td>\n",
              "      <td>...</td>\n",
              "      <td>...</td>\n",
              "      <td>...</td>\n",
              "    </tr>\n",
              "    <tr>\n",
              "      <th>259</th>\n",
              "      <td>KARBONN K9</td>\n",
              "      <td>₹1,299</td>\n",
              "      <td>4.1</td>\n",
              "      <td>7,543 Ratings</td>\n",
              "      <td>553 Reviews</td>\n",
              "      <td>6.6 cm (2.6 inch) QVGA Display2MP Rear Camera1...</td>\n",
              "    </tr>\n",
              "    <tr>\n",
              "      <th>260</th>\n",
              "      <td>Itel IT2163</td>\n",
              "      <td>₹835</td>\n",
              "      <td>4</td>\n",
              "      <td>5,106 Ratings</td>\n",
              "      <td>383 Reviews</td>\n",
              "      <td>4 MB RAM | 4 MB ROM | Expandable Upto 32 GB4.5...</td>\n",
              "    </tr>\n",
              "    <tr>\n",
              "      <th>261</th>\n",
              "      <td>SAMSUNG Galaxy M51 (Celestial Black, 128 GB)</td>\n",
              "      <td>₹24,399</td>\n",
              "      <td>4.4</td>\n",
              "      <td>643 Ratings</td>\n",
              "      <td>36 Reviews</td>\n",
              "      <td>8 GB RAM | 128 GB ROM17.02 cm (6.7 inch) Displ...</td>\n",
              "    </tr>\n",
              "    <tr>\n",
              "      <th>262</th>\n",
              "      <td>SAMSUNG Galaxy M02 (Gray, 32 GB)</td>\n",
              "      <td>₹8,498</td>\n",
              "      <td>4</td>\n",
              "      <td>667 Ratings</td>\n",
              "      <td>64 Reviews</td>\n",
              "      <td>3 GB RAM | 32 GB ROM16.64 cm (6.55 inch) Full ...</td>\n",
              "    </tr>\n",
              "    <tr>\n",
              "      <th>263</th>\n",
              "      <td>realme 8 Pro (Illuminating Yellow, 128 GB)</td>\n",
              "      <td>₹17,999</td>\n",
              "      <td>4.3</td>\n",
              "      <td>26,716 Ratings</td>\n",
              "      <td>2,481 Reviews</td>\n",
              "      <td>6 GB RAM | 128 GB ROM | Expandable Upto 256 GB...</td>\n",
              "    </tr>\n",
              "  </tbody>\n",
              "</table>\n",
              "<p>264 rows × 6 columns</p>\n",
              "</div>"
            ],
            "text/plain": [
              "                                             name  ...                                     specifications\n",
              "0                REDMI 9i (Midnight Black, 64 GB)  ...  4 GB RAM | 64 GB ROM | Expandable Upto 512 GB1...\n",
              "1                      POCO M3 (Cool Blue, 64 GB)  ...  6 GB RAM | 64 GB ROM | Expandable Upto 512 GB1...\n",
              "2                 realme C21 (Cross Black, 64 GB)  ...  4 GB RAM | 64 GB ROM | Expandable Upto 256 GB1...\n",
              "3                 realme C21 (Cross Black, 32 GB)  ...  3 GB RAM | 32 GB ROM | Expandable Upto 256 GB1...\n",
              "4                  realme C21 (Cross Blue, 64 GB)  ...  4 GB RAM | 64 GB ROM | Expandable Upto 256 GB1...\n",
              "..                                            ...  ...                                                ...\n",
              "259                                    KARBONN K9  ...  6.6 cm (2.6 inch) QVGA Display2MP Rear Camera1...\n",
              "260                                   Itel IT2163  ...  4 MB RAM | 4 MB ROM | Expandable Upto 32 GB4.5...\n",
              "261  SAMSUNG Galaxy M51 (Celestial Black, 128 GB)  ...  8 GB RAM | 128 GB ROM17.02 cm (6.7 inch) Displ...\n",
              "262              SAMSUNG Galaxy M02 (Gray, 32 GB)  ...  3 GB RAM | 32 GB ROM16.64 cm (6.55 inch) Full ...\n",
              "263    realme 8 Pro (Illuminating Yellow, 128 GB)  ...  6 GB RAM | 128 GB ROM | Expandable Upto 256 GB...\n",
              "\n",
              "[264 rows x 6 columns]"
            ]
          },
          "metadata": {
            "tags": []
          },
          "execution_count": 43
        }
      ]
    },
    {
      "cell_type": "code",
      "metadata": {
        "id": "8Q9aGkqrVSLv"
      },
      "source": [
        "# Saving the scraped data\n",
        "\n",
        "data.to_csv('mobilephones_data.csv',index=False)\n",
        "\n"
      ],
      "execution_count": 44,
      "outputs": []
    }
  ]
}